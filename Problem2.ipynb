{
  "nbformat": 4,
  "nbformat_minor": 0,
  "metadata": {
    "colab": {
      "provenance": [],
      "authorship_tag": "ABX9TyMB6iXGysC+5VGgZkBoKZ7H",
      "include_colab_link": true
    },
    "kernelspec": {
      "name": "python3",
      "display_name": "Python 3"
    },
    "language_info": {
      "name": "python"
    }
  },
  "cells": [
    {
      "cell_type": "markdown",
      "metadata": {
        "id": "view-in-github",
        "colab_type": "text"
      },
      "source": [
        "<a href=\"https://colab.research.google.com/github/hn10769930/Newbold-AI/blob/main/Problem2.ipynb\" target=\"_parent\"><img src=\"https://colab.research.google.com/assets/colab-badge.svg\" alt=\"Open In Colab\"/></a>"
      ]
    },
    {
      "cell_type": "code",
      "execution_count": 3,
      "metadata": {
        "colab": {
          "base_uri": "https://localhost:8080/"
        },
        "id": "78_5JMdVrhhJ",
        "outputId": "2f6f4231-dd1c-4de8-96a0-c983e0b43958"
      },
      "outputs": [
        {
          "output_type": "stream",
          "name": "stdout",
          "text": [
            "Potential friends for 'Adam': {'Sophia', 'Maya', 'David'}\n",
            "Potential friends for 'David': {'Sophia', 'Adam'}\n",
            "Potential friends for 'Sophia': {'Adam', 'David'}\n"
          ]
        }
      ],
      "source": [
        "#Hailey Newbold\n",
        "#CSC 362 D01\n",
        "#9/26/2025\n",
        "#HW2: Problem 2\n",
        "\n",
        "from collections import deque\n",
        "\n",
        "def potential_friends(graph, start_node):\n",
        "    if start_node not in graph:\n",
        "        return set()\n",
        "\n",
        "    #Get the direct friends of the start_node\n",
        "    direct_friends = set(graph.get(start_node, []))\n",
        "\n",
        "    queue = deque(direct_friends)\n",
        "\n",
        "    #The visited set includes the start_node and its direct friends\n",
        "    visited = {start_node} | direct_friends\n",
        "\n",
        "    potential_friends_set = set()\n",
        "\n",
        "    while queue:\n",
        "        current_node = queue.popleft()\n",
        "\n",
        "        for neighbor in graph.get(current_node, []):\n",
        "            if neighbor not in visited:\n",
        "                #We can add them to our potential friends set.\n",
        "                potential_friends_set.add(neighbor)\n",
        "\n",
        "                #visited.add(neighbor)\n",
        "                #used if the graph was larger with more branches\n",
        "\n",
        "    return potential_friends_set\n",
        "\n",
        "#Adjacency list representation of the graph at time 't'\n",
        "graph_t = {\n",
        "    'Adam': ['Maria'],\n",
        "    'Maria': ['Adam', 'Sophia', 'Maya', 'David'],\n",
        "    'Sophia': ['Maria', 'Maya'],\n",
        "    'Maya': ['Maria', 'Sophia', 'David'],\n",
        "    'David': ['Maria', 'Maya']\n",
        "}\n",
        "\n",
        "#Test cases as described in the problem statement\n",
        "print(f\"Potential friends for 'Adam': {potential_friends(graph_t, 'Adam')}\")\n",
        "#Expected output: {'Sophia', 'Maya', 'David'}\n",
        "\n",
        "print(f\"Potential friends for 'David': {potential_friends(graph_t, 'David')}\")\n",
        "#Expected output: {'Adam', 'Sophia'}\n",
        "\n",
        "print(f\"Potential friends for 'Sophia': {potential_friends(graph_t, 'Sophia')}\")\n",
        "#Expected output: {'Adam', 'David'}"
      ]
    }
  ]
}