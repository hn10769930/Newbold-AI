{
  "nbformat": 4,
  "nbformat_minor": 0,
  "metadata": {
    "colab": {
      "provenance": []
    },
    "kernelspec": {
      "name": "python3",
      "display_name": "Python 3"
    },
    "language_info": {
      "name": "python"
    }
  },
  "cells": [
    {
      "cell_type": "code",
      "execution_count": 1,
      "metadata": {
        "colab": {
          "base_uri": "https://localhost:8080/"
        },
        "id": "zoYJg2EB9-ZW",
        "outputId": "4302111f-6114-438d-86d3-b11c71316614"
      },
      "outputs": [
        {
          "output_type": "stream",
          "name": "stdout",
          "text": [
            "Solution found! Here are the steps:\n",
            "Step 0: (5L Jug: 0, 3L Jug: 0)\n",
            "Step 1: (5L Jug: 5, 3L Jug: 0)\n",
            "Step 2: (5L Jug: 2, 3L Jug: 3)\n",
            "Step 3: (5L Jug: 2, 3L Jug: 0)\n",
            "Step 4: (5L Jug: 0, 3L Jug: 2)\n",
            "Step 5: (5L Jug: 5, 3L Jug: 2)\n",
            "Step 6: (5L Jug: 4, 3L Jug: 3)\n"
          ]
        }
      ],
      "source": [
        "#Hailey Newbold\n",
        "#CSC 362 D01\n",
        "#9/12/2025\n",
        "#HW1: Water Jug Puzzle\n",
        "\n",
        "class WaterJugPuzzle:\n",
        "    def __init__(self, fiveL_capacity, threeL_capacity, target):\n",
        "      #initializing values\n",
        "        self.fiveL_capacity = fiveL_capacity\n",
        "        self.threeL_capacity = threeL_capacity\n",
        "        self.target = target\n",
        "        self.fiveL = 0\n",
        "        self.threeL = 0\n",
        "        self.path = []\n",
        "\n",
        "    def _add_to_path(self):\n",
        "        self.path.append((self.fiveL, self.threeL))\n",
        "\n",
        "    def print_path(self):\n",
        "      #bookkeeping\n",
        "        print(\"Solution found! Here are the steps:\")\n",
        "        for i, state in enumerate(self.path):\n",
        "            print(f\"Step {i}: (5L Jug: {state[0]}, 3L Jug: {state[1]})\")\n",
        "\n",
        "    def fill_fiveL(self):\n",
        "        self.fiveL = self.fiveL_capacity\n",
        "        self._add_to_path()\n",
        "\n",
        "    def empty_threeL(self):\n",
        "        self.threeL = 0\n",
        "        self._add_to_path()\n",
        "\n",
        "    def pour_fiveL_to_threeL(self):\n",
        "        pour_amount = min(self.fiveL, self.threeL_capacity - self.threeL)\n",
        "        self.fiveL -= pour_amount\n",
        "        self.threeL += pour_amount\n",
        "        self._add_to_path()\n",
        "\n",
        "    def solve(self):\n",
        "        self._add_to_path() #start state (0, 0)\n",
        "\n",
        "        self.fill_fiveL() #step 1\n",
        "        self.pour_fiveL_to_threeL() #step 2\n",
        "        self.empty_threeL() #step 3\n",
        "        self.pour_fiveL_to_threeL() #step 4\n",
        "        self.fill_fiveL() #step 5\n",
        "        self.pour_fiveL_to_threeL() #step 6\n",
        "\n",
        "        if self.fiveL == self.target:\n",
        "            self.print_path()\n",
        "        else:\n",
        "            print(\"The specified sequence of steps did not reach the target.\")\n",
        "\n",
        "if __name__ == \"__main__\":\n",
        "  #defining parameters and excuting the solution\n",
        "    puzzle = WaterJugPuzzle(fiveL_capacity=5, threeL_capacity=3, target=4)\n",
        "    puzzle.solve()"
      ]
    }
  ]
}