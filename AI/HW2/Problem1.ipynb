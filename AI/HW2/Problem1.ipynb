{
  "nbformat": 4,
  "nbformat_minor": 0,
  "metadata": {
    "colab": {
      "provenance": [],
      "authorship_tag": "ABX9TyMy8F1/XSYTXtnC92b3ynLW",
      "include_colab_link": true
    },
    "kernelspec": {
      "name": "python3",
      "display_name": "Python 3"
    },
    "language_info": {
      "name": "python"
    }
  },
  "cells": [
    {
      "cell_type": "markdown",
      "metadata": {
        "id": "view-in-github",
        "colab_type": "text"
      },
      "source": [
        "<a href=\"https://colab.research.google.com/github/hn10769930/Newbold-AI/blob/main/Problem1.ipynb\" target=\"_parent\"><img src=\"https://colab.research.google.com/assets/colab-badge.svg\" alt=\"Open In Colab\"/></a>"
      ]
    },
    {
      "cell_type": "code",
      "execution_count": 2,
      "metadata": {
        "colab": {
          "base_uri": "https://localhost:8080/"
        },
        "id": "oZ8dQSoMiTa_",
        "outputId": "2539e55b-18c8-4e56-88be-8f7f4d42ee79"
      },
      "outputs": [
        {
          "output_type": "stream",
          "name": "stdout",
          "text": [
            "Graph: {'Rob': ['Bob'], 'Richard': ['Bob'], 'Bob': ['Rob', 'Richard', 'Pam'], 'Pam': ['Bob', 'Roger', 'Peter'], 'Roger': ['Pam', 'Anna'], 'Anna': ['Roger'], 'Peter': ['Pam', 'Amy'], 'Amy': ['Peter']}\n",
            "\n",
            "Testing FindFriends(G, 'Bob', 3):\n",
            "Expected: ['Amy', 'Anna']\n",
            "Result:   ['Amy', 'Anna']\n"
          ]
        }
      ],
      "source": [
        "#Hailey Newbold\n",
        "#CSC 362 D01\n",
        "#9/26/2025\n",
        "#HW2: Problem 1\n",
        "\n",
        "from collections import deque\n",
        "\n",
        "#Graph representation using an adjacency list\n",
        "social_network_graph = {\n",
        "    'Rob': ['Bob'],\n",
        "    'Richard': ['Bob'],\n",
        "    'Bob': ['Rob', 'Richard', 'Pam'],\n",
        "    'Pam': ['Bob', 'Roger', 'Peter'],\n",
        "    'Roger': ['Pam', 'Anna'],\n",
        "    'Anna': ['Roger'],\n",
        "    'Peter': ['Pam', 'Amy'],\n",
        "    'Amy': ['Peter']\n",
        "}\n",
        "\n",
        "def find_friends_by_level(graph, start_user, k):\n",
        "    if start_user not in graph:\n",
        "        return []\n",
        "\n",
        "    #Queue for BFS, storing (user, level)\n",
        "    queue = [(start_user, 0)]\n",
        "\n",
        "    #Set to keep track of visited users\n",
        "    visited = {start_user}\n",
        "\n",
        "    #List to store the final result\n",
        "    kth_level_friends = []\n",
        "\n",
        "    #BFS traversal\n",
        "    while queue:\n",
        "        current_user, current_level = queue.pop(0)  #Dequeue first element\n",
        "\n",
        "        #If we have reached the kth level, add the user to the result list\n",
        "        if current_level == k:\n",
        "            kth_level_friends.append(current_user)\n",
        "            continue  #Move to the next item in the queue\n",
        "\n",
        "        #If we haven't reached the level yet, explore neighbors\n",
        "        if current_level < k:\n",
        "            for neighbor in graph.get(current_user, []):\n",
        "                if neighbor not in visited:\n",
        "                    visited.add(neighbor)\n",
        "                    queue.append((neighbor, current_level + 1))  #Enqueue with incremented level\n",
        "\n",
        "    return sorted(kth_level_friends)\n",
        "\n",
        "print(f\"Graph: {social_network_graph}\")\n",
        "print(\"\\nTesting FindFriends(G, 'Bob', 3):\")\n",
        "result_bob_3 = find_friends_by_level(social_network_graph, 'Bob', 3)\n",
        "print(f\"Expected: ['Amy', 'Anna']\")\n",
        "print(f\"Result:   {result_bob_3}\")"
      ]
    }
  ]
}